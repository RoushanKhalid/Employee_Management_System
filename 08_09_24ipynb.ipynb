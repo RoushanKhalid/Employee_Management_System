{
  "nbformat": 4,
  "nbformat_minor": 0,
  "metadata": {
    "colab": {
      "provenance": [],
      "authorship_tag": "ABX9TyMAhdUVHmkM7XytdM8FLc0z",
      "include_colab_link": true
    },
    "kernelspec": {
      "name": "python3",
      "display_name": "Python 3"
    },
    "language_info": {
      "name": "python"
    }
  },
  "cells": [
    {
      "cell_type": "markdown",
      "metadata": {
        "id": "view-in-github",
        "colab_type": "text"
      },
      "source": [
        "<a href=\"https://colab.research.google.com/github/RoushanKhalid/Employee_Management_System/blob/main/08_09_24ipynb.ipynb\" target=\"_parent\"><img src=\"https://colab.research.google.com/assets/colab-badge.svg\" alt=\"Open In Colab\"/></a>"
      ]
    },
    {
      "cell_type": "markdown",
      "source": [
        "**08-09-24**\n",
        "**f string**"
      ],
      "metadata": {
        "id": "Nv6LrbCqbLiR"
      }
    },
    {
      "cell_type": "code",
      "source": [
        "course_name=\"Learning Pyhton Programming\"\n",
        "print(course_name[3:7])"
      ],
      "metadata": {
        "colab": {
          "base_uri": "https://localhost:8080/"
        },
        "id": "kXrDgHzybbzu",
        "outputId": "f9816137-a5c1-4a99-eb19-61fa95d10469"
      },
      "execution_count": null,
      "outputs": [
        {
          "output_type": "stream",
          "name": "stdout",
          "text": [
            "rnin\n"
          ]
        }
      ]
    },
    {
      "cell_type": "code",
      "source": [
        "name=\"Khalid\"\n",
        "title=\"Fraud\"\n",
        "message=name+'(' + title + ')' + ' is a bad boy'\n",
        "print(message)\n",
        "message2=f'{name}({title}) is a bad boy'\n",
        "print(message2)"
      ],
      "metadata": {
        "colab": {
          "base_uri": "https://localhost:8080/"
        },
        "id": "8uANc5imcENq",
        "outputId": "1a3ceba1-5617-4c44-b881-80d5394080e7"
      },
      "execution_count": null,
      "outputs": [
        {
          "output_type": "stream",
          "name": "stdout",
          "text": [
            "Khalid(Fraud) is a bad boy\n",
            "Khalid(Fraud) is a bad boy\n"
          ]
        }
      ]
    },
    {
      "cell_type": "markdown",
      "source": [
        "**Accesing Methods**"
      ],
      "metadata": {
        "id": "bsKOIEjqdeoS"
      }
    },
    {
      "cell_type": "code",
      "source": [
        "course_name=\"Learning Pyhton Programming\"\n",
        "print(type(course_name))\n",
        "x=10\n",
        "print(type(x))"
      ],
      "metadata": {
        "colab": {
          "base_uri": "https://localhost:8080/"
        },
        "id": "bP5WneG0dkYV",
        "outputId": "4383bc4e-20dc-4ba1-ceb2-e26190a62f55"
      },
      "execution_count": null,
      "outputs": [
        {
          "output_type": "stream",
          "name": "stdout",
          "text": [
            "<class 'str'>\n",
            "<class 'int'>\n"
          ]
        }
      ]
    },
    {
      "cell_type": "code",
      "source": [
        "course_name=\"Learning Python Programming\"\n",
        "print(course_name.upper())\n",
        "print(course_name.lower())\n",
        "print(course_name.title())\n",
        "print(course_name.swapcase())\n",
        "print(course_name.capitalize())\n",
        "print((course_name).find(\"Python\"))\n",
        "print((course_name).replace(\"Python\",\"Java\"))\n",
        "print(\"Learn\" in course_name)"
      ],
      "metadata": {
        "colab": {
          "base_uri": "https://localhost:8080/"
        },
        "id": "0gvaQzMOfDAP",
        "outputId": "fbda637d-6586-439b-ce82-8be378c5385c"
      },
      "execution_count": null,
      "outputs": [
        {
          "output_type": "stream",
          "name": "stdout",
          "text": [
            "LEARNING PYTHON PROGRAMMING\n",
            "learning python programming\n",
            "Learning Python Programming\n",
            "lEARNING pYTHON pROGRAMMING\n",
            "Learning python programming\n",
            "9\n",
            "Learning Java Programming\n",
            "True\n"
          ]
        }
      ]
    }
  ]
}